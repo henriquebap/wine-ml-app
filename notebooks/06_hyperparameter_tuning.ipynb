{
  "cells": [
    {
      "cell_type": "markdown",
      "metadata": {},
      "source": [
        "# 06 - Hyperparameter Tuning\n",
        "\n",
        "Tuning com GridSearchCV/RandomizedSearchCV para modelos selecionados.\n",
        "\n"
      ]
    },
    {
      "cell_type": "code",
      "execution_count": 1,
      "metadata": {},
      "outputs": [
        {
          "name": "stdout",
          "output_type": "stream",
          "text": [
            "✅ Dados processados carregados do HF Hub\n",
            "Best params: {'max_depth': 8, 'min_samples_split': 10, 'n_estimators': 200}\n",
            "Best RMSE: 0.6285949224086554\n"
          ]
        }
      ],
      "source": [
        "import os\n",
        "import numpy as np\n",
        "import pandas as pd\n",
        "from sklearn.model_selection import GridSearchCV, KFold\n",
        "from sklearn.ensemble import RandomForestRegressor\n",
        "\n",
        "from huggingface_hub import hf_hub_download\n",
        "from pathlib import Path\n",
        "\n",
        "# helpers\n",
        "\n",
        "def load_selected_features(df: pd.DataFrame) -> list:\n",
        "    p = Path('reports/eda/selected_features.csv')\n",
        "    if p.exists():\n",
        "        try:\n",
        "            feats = pd.read_csv(p).iloc[:,0].dropna().astype(str).tolist()\n",
        "            feats = [c for c in feats if c in df.columns and c != 'quality']\n",
        "            if feats:\n",
        "                return feats\n",
        "        except Exception:\n",
        "            pass\n",
        "    return [c for c in df.select_dtypes(include=[np.number]).columns if c != 'quality']\n",
        "\n",
        "\n",
        "def load_processed_df():\n",
        "    HF_TOKEN = os.getenv('HF_TOKEN', None)\n",
        "    HF_PROCESSED_REPO = os.getenv('HF_PROCESSED_REPO', 'henriquebap/wine-ml-processed')\n",
        "    try:\n",
        "        df_path = hf_hub_download(repo_id=HF_PROCESSED_REPO, filename='processed/full.csv', repo_type='dataset', token=HF_TOKEN)\n",
        "        df = pd.read_csv(df_path)\n",
        "        print('✅ Dados processados carregados do HF Hub')\n",
        "    except Exception as e:\n",
        "        print('⚠️ Fallback para dados locais:', e)\n",
        "        proc = Path.cwd().parent / 'data' / 'processed' / 'df_capped.csv'\n",
        "        if proc.exists():\n",
        "            df = pd.read_csv(proc)\n",
        "        else:\n",
        "            raise FileNotFoundError('df_capped.csv não encontrado localmente nem no Hub')\n",
        "    return df\n",
        "\n",
        "\n",
        "_df = load_processed_df()\n",
        "FEATURES = load_selected_features(_df)\n",
        "X = _df[FEATURES]\n",
        "y = _df[\"quality\"]\n",
        "\n",
        "param_grid = {\n",
        "    'n_estimators': [200, 400, 600],\n",
        "    'max_depth': [None, 8, 12, 16],\n",
        "    'min_samples_split': [2, 5, 10],\n",
        "}\n",
        "\n",
        "cv = KFold(n_splits=5, shuffle=True, random_state=42)\n",
        "rf = RandomForestRegressor(random_state=42)\n",
        "\n",
        "search = GridSearchCV(rf, param_grid, scoring='neg_root_mean_squared_error', cv=cv, n_jobs=-1)\n",
        "search.fit(X, y)\n",
        "\n",
        "print(\"Best params:\", search.best_params_)\n",
        "print(\"Best RMSE:\", -search.best_score_)\n"
      ]
    }
  ],
  "metadata": {
    "kernelspec": {
      "display_name": ".venv",
      "language": "python",
      "name": "python3"
    },
    "language_info": {
      "codemirror_mode": {
        "name": "ipython",
        "version": 3
      },
      "file_extension": ".py",
      "mimetype": "text/x-python",
      "name": "python",
      "nbconvert_exporter": "python",
      "pygments_lexer": "ipython3",
      "version": "3.11.13"
    }
  },
  "nbformat": 4,
  "nbformat_minor": 2
}
