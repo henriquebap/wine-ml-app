{
  "cells": [
    {
      "cell_type": "markdown",
      "metadata": {},
      "source": [
        "# 06 - Hyperparameter Tuning\n",
        "\n",
        "Tuning com GridSearchCV/RandomizedSearchCV para modelos selecionados.\n",
        "\n"
      ]
    },
    {
      "cell_type": "code",
      "execution_count": null,
      "metadata": {},
      "outputs": [],
      "source": [
        "import os\n",
        "import numpy as np\n",
        "import pandas as pd\n",
        "from sklearn.model_selection import GridSearchCV, KFold\n",
        "from sklearn.ensemble import RandomForestRegressor\n",
        "\n",
        "from src.data_ingestion import load_wine_dataframe\n",
        "from src.data_processing import DataPreprocessor\n",
        "\n",
        "HF_REPO = os.getenv(\"HF_DATASET_REPO\", \"henriquebap/wine-ml-dataset\")\n",
        "FILENAME = os.getenv(\"HF_DATASET_FILENAME\", \"WineQT.csv\")\n",
        "\n",
        "FEATURES = [\n",
        "    \"fixed acidity\",\"volatile acidity\",\"citric acid\",\"residual sugar\",\"chlorides\",\n",
        "    \"free sulfur dioxide\",\"total sulfur dioxide\",\"density\",\"pH\",\"sulphates\",\"alcohol\"\n",
        "]\n",
        "\n",
        "df = load_wine_dataframe(repo_id=HF_REPO, filename=FILENAME)\n",
        "pre = DataPreprocessor(feature_columns=FEATURES, target_column=\"quality\")\n",
        "df_p = pre.fit_transform(df)\n",
        "X = df_p[FEATURES]\n",
        "y = df_p[\"quality\"]\n",
        "\n",
        "param_grid = {\n",
        "    'n_estimators': [200, 400, 600],\n",
        "    'max_depth': [None, 8, 12, 16],\n",
        "    'min_samples_split': [2, 5, 10],\n",
        "}\n",
        "\n",
        "cv = KFold(n_splits=5, shuffle=True, random_state=42)\n",
        "rf = RandomForestRegressor(random_state=42)\n",
        "\n",
        "search = GridSearchCV(rf, param_grid, scoring='neg_root_mean_squared_error', cv=cv, n_jobs=-1)\n",
        "search.fit(X, y)\n",
        "\n",
        "print(\"Best params:\", search.best_params_)\n",
        "print(\"Best RMSE:\", -search.best_score_)\n"
      ]
    }
  ],
  "metadata": {
    "language_info": {
      "name": "python"
    }
  },
  "nbformat": 4,
  "nbformat_minor": 2
}
