{
  "cells": [
    {
      "cell_type": "markdown",
      "metadata": {},
      "source": [
        "# 05 - Advanced Models\n",
        "\n",
        "Modelos avançados (e.g., Gradient Boosting, XGBoost/LightGBM se disponível) e comparação.\n",
        "\n"
      ]
    },
    {
      "cell_type": "code",
      "execution_count": null,
      "metadata": {},
      "outputs": [],
      "source": [
        "import os\n",
        "import numpy as np\n",
        "import pandas as pd\n",
        "from sklearn.model_selection import cross_val_score, KFold\n",
        "from sklearn.ensemble import GradientBoostingRegressor\n",
        "\n",
        "from src.data_ingestion import load_wine_dataframe\n",
        "from src.data_processing import DataPreprocessor\n",
        "\n",
        "# Optional imports if available\n",
        "try:\n",
        "    from xgboost import XGBRegressor\n",
        "    has_xgb = True\n",
        "except Exception:\n",
        "    has_xgb = False\n",
        "\n",
        "HF_REPO = os.getenv(\"HF_DATASET_REPO\", \"henriquebap/wine-ml-dataset\")\n",
        "FILENAME = os.getenv(\"HF_DATASET_FILENAME\", \"WineQT.csv\")\n",
        "\n",
        "FEATURES = [\n",
        "    \"fixed acidity\",\"volatile acidity\",\"citric acid\",\"residual sugar\",\"chlorides\",\n",
        "    \"free sulfur dioxide\",\"total sulfur dioxide\",\"density\",\"pH\",\"sulphates\",\"alcohol\"\n",
        "]\n",
        "\n",
        "df = load_wine_dataframe(repo_id=HF_REPO, filename=FILENAME)\n",
        "pre = DataPreprocessor(feature_columns=FEATURES, target_column=\"quality\")\n",
        "df_p = pre.fit_transform(df)\n",
        "X = df_p[FEATURES]\n",
        "y = df_p[\"quality\"]\n",
        "\n",
        "models = {\n",
        "    \"GBR\": GradientBoostingRegressor(random_state=42),\n",
        "}\n",
        "if has_xgb:\n",
        "    models[\"XGB\"] = XGBRegressor(n_estimators=400, max_depth=6, learning_rate=0.05, subsample=0.9, colsample_bytree=0.8, random_state=42)\n",
        "\n",
        "cv = KFold(n_splits=5, shuffle=True, random_state=42)\n",
        "results = []\n",
        "for name, model in models.items():\n",
        "    scores = cross_val_score(model, X, y, cv=cv, scoring='neg_root_mean_squared_error')\n",
        "    results.append({\n",
        "        \"model\": name,\n",
        "        \"rmse_mean\": -scores.mean(),\n",
        "        \"rmse_std\": scores.std(),\n",
        "    })\n",
        "\n",
        "pd.DataFrame(results).sort_values(\"rmse_mean\")\n"
      ]
    }
  ],
  "metadata": {
    "language_info": {
      "name": "python"
    }
  },
  "nbformat": 4,
  "nbformat_minor": 2
}
