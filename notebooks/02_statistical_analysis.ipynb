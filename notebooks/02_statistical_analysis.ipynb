{
  "cells": [
    {
      "cell_type": "markdown",
      "metadata": {},
      "source": [
        "# 02 - Statistical Analysis (WineQT)\n",
        "\n",
        "Testes de normalidade, análise de outliers e variância, e importância inicial de features.\n",
        "\n"
      ]
    },
    {
      "cell_type": "code",
      "execution_count": null,
      "metadata": {},
      "outputs": [],
      "source": [
        "import os\n",
        "import numpy as np\n",
        "import pandas as pd\n",
        "import seaborn as sns\n",
        "import matplotlib.pyplot as plt\n",
        "from scipy import stats\n",
        "\n",
        "from src.data_ingestion import load_wine_dataframe\n",
        "\n",
        "HF_REPO = os.getenv(\"HF_DATASET_REPO\", \"henriquebap/wine-ml-dataset\")\n",
        "FILENAME = os.getenv(\"HF_DATASET_FILENAME\", \"WineQT.csv\")\n",
        "\n",
        "df = load_wine_dataframe(repo_id=HF_REPO, filename=FILENAME)\n",
        "df.head()\n"
      ]
    },
    {
      "cell_type": "code",
      "execution_count": null,
      "metadata": {},
      "outputs": [],
      "source": [
        "# Normality tests (Shapiro-Wilk on sample if needed)\n",
        "normality_results = {}\n",
        "for col in [c for c in df.columns if c != 'quality']:\n",
        "    series = df[col].dropna()\n",
        "    sample = series.sample(min(500, len(series)), random_state=42)\n",
        "    stat, p = stats.shapiro(sample)\n",
        "    normality_results[col] = {'stat': float(stat), 'pvalue': float(p)}\n",
        "\n",
        "pd.DataFrame(normality_results).T.sort_values('pvalue')\n"
      ]
    },
    {
      "cell_type": "code",
      "execution_count": null,
      "metadata": {},
      "outputs": [],
      "source": [
        "# ANOVA example: compare feature means across discrete quality groups\n",
        "anova_results = {}\n",
        "for col in [c for c in df.columns if c != 'quality']:\n",
        "    groups = [g[1][col].values for g in df.groupby('quality')]\n",
        "    stat, p = stats.f_oneway(*groups)\n",
        "    anova_results[col] = {'F': float(stat), 'pvalue': float(p)}\n",
        "\n",
        "pd.DataFrame(anova_results).T.sort_values('pvalue')\n"
      ]
    },
    {
      "cell_type": "code",
      "execution_count": null,
      "metadata": {},
      "outputs": [],
      "source": [
        "# Outlier analysis using z-score\n",
        "z = np.abs(stats.zscore(df.select_dtypes(include=[np.number])))\n",
        "outlier_counts = (z > 3).sum(axis=0)\n",
        "pd.Series(outlier_counts, index=df.select_dtypes(include=[np.number]).columns).sort_values(ascending=False)\n"
      ]
    }
  ],
  "metadata": {
    "language_info": {
      "name": "python"
    }
  },
  "nbformat": 4,
  "nbformat_minor": 2
}
