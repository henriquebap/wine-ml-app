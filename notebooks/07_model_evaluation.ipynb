{
  "cells": [
    {
      "cell_type": "markdown",
      "metadata": {},
      "source": [
        "# 07 - Model Evaluation\n",
        "\n",
        "Avaliação final com hold-out, métricas (RMSE, MAE, R2), curva de resíduos e feature importance.\n",
        "\n"
      ]
    },
    {
      "cell_type": "code",
      "execution_count": null,
      "metadata": {},
      "outputs": [],
      "source": [
        "import os\n",
        "import numpy as np\n",
        "import pandas as pd\n",
        "import seaborn as sns\n",
        "import matplotlib.pyplot as plt\n",
        "from sklearn.model_selection import train_test_split\n",
        "from sklearn.metrics import mean_absolute_error, mean_squared_error, r2_score\n",
        "from sklearn.ensemble import RandomForestRegressor\n",
        "\n",
        "import sys\n",
        "import os\n",
        "\n",
        "# Adiciona o diretório raiz do projeto ao PYTHONPATH\n",
        "sys.path.append(os.path.abspath(os.path.join(os.getcwd(), '..')))\n",
        "\n",
        "from src.data_ingestion import load_wine_dataframe\n",
        "from src.data_processing import DataPreprocessor\n",
        "\n",
        "HF_REPO = os.getenv(\"HF_DATASET_REPO\", \"henriquebap/wine-ml-dataset\")\n",
        "FILENAME = os.getenv(\"HF_DATASET_FILENAME\", \"WineQT.csv\")\n",
        "\n",
        "FEATURES = [\n",
        "    \"fixed acidity\",\"volatile acidity\",\"citric acid\",\"residual sugar\",\"chlorides\",\n",
        "    \"free sulfur dioxide\",\"total sulfur dioxide\",\"density\",\"pH\",\"sulphates\",\"alcohol\"\n",
        "]\n",
        "\n",
        "df = load_wine_dataframe(repo_id=HF_REPO, filename=FILENAME)\n",
        "pre = DataPreprocessor(feature_columns=FEATURES, target_column=\"quality\")\n",
        "df_p = pre.fit_transform(df)\n",
        "\n",
        "X = df_p[FEATURES]\n",
        "y = df_p[\"quality\"]\n",
        "\n",
        "X_train, X_test, y_train, y_test = train_test_split(X, y, test_size=0.2, random_state=42)\n",
        "\n",
        "model = RandomForestRegressor(n_estimators=400, random_state=42)\n",
        "model.fit(X_train, y_train)\n",
        "\n",
        "pred = model.predict(X_test)\n",
        "rmse = mean_squared_error(y_test, pred, squared=False)\n",
        "mae = mean_absolute_error(y_test, pred)\n",
        "r2 = r2_score(y_test, pred)\n",
        "\n",
        "print({\"rmse\": rmse, \"mae\": mae, \"r2\": r2})\n",
        "\n",
        "# Residuals plot\n",
        "resid = y_test - pred\n",
        "sns.scatterplot(x=pred, y=resid)\n",
        "plt.axhline(0, color='red', linestyle='--')\n",
        "plt.title('Residuals vs Predictions')\n",
        "plt.show()\n",
        "\n",
        "# Feature importance\n",
        "importances = pd.Series(model.feature_importances_, index=FEATURES).sort_values(ascending=False)\n",
        "importances\n"
      ]
    }
  ],
  "metadata": {
    "language_info": {
      "name": "python"
    }
  },
  "nbformat": 4,
  "nbformat_minor": 2
}
