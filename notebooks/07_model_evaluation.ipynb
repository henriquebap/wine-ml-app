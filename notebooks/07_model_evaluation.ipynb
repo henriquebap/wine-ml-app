{
  "cells": [
    {
      "cell_type": "markdown",
      "metadata": {},
      "source": [
        "# 07 - Model Evaluation\n",
        "\n",
        "Avaliação final com hold-out, métricas (RMSE, MAE, R2), curva de resíduos e feature importance.\n",
        "\n"
      ]
    },
    {
      "cell_type": "code",
      "execution_count": 2,
      "metadata": {},
      "outputs": [
        {
          "name": "stdout",
          "output_type": "stream",
          "text": [
            "✅ Dados processados carregados do HF Hub\n",
            "{'rmse': np.float64(0.7040603310476325), 'mae': 0.5420465686274509, 'r2': 0.4235590933858663}\n"
          ]
        },
        {
          "data": {
            "image/png": "[encoded data removed]",
            "text/plain": [
              "<Figure size 640x480 with 1 Axes>"
            ]
          },
          "metadata": {},
          "output_type": "display_data"
        },
        {
          "data": {
            "text/plain": [
              "alcohol                 0.277915\n",
              "sulphates               0.146438\n",
              "volatile acidity        0.141449\n",
              "chlorides               0.077495\n",
              "total sulfur dioxide    0.074758\n",
              "pH                      0.063146\n",
              "density                 0.059272\n",
              "free sulfur dioxide     0.056878\n",
              "fixed acidity           0.056834\n",
              "citric acid             0.045814\n",
              "dtype: float64"
            ]
          },
          "execution_count": 2,
          "metadata": {},
          "output_type": "execute_result"
        }
      ],
      "source": [
        "import os\n",
        "import numpy as np\n",
        "import pandas as pd\n",
        "import seaborn as sns\n",
        "import matplotlib.pyplot as plt\n",
        "from sklearn.model_selection import train_test_split\n",
        "from sklearn.metrics import mean_absolute_error, mean_squared_error, r2_score\n",
        "from sklearn.ensemble import RandomForestRegressor\n",
        "\n",
        "import sys\n",
        "import os\n",
        "\n",
        "# Adiciona o diretório raiz do projeto ao PYTHONPATH\n",
        "sys.path.append(os.path.abspath(os.path.join(os.getcwd(), '..')))\n",
        "\n",
        "from huggingface_hub import hf_hub_download\n",
        "from pathlib import Path\n",
        "\n",
        "# helpers\n",
        "\n",
        "def load_selected_features(df: pd.DataFrame) -> list:\n",
        "    p = Path('reports/eda/selected_features.csv')\n",
        "    if p.exists():\n",
        "        try:\n",
        "            feats = pd.read_csv(p).iloc[:,0].dropna().astype(str).tolist()\n",
        "            feats = [c for c in feats if c in df.columns and c != 'quality']\n",
        "            if feats:\n",
        "                return feats\n",
        "        except Exception:\n",
        "            pass\n",
        "    return [c for c in df.select_dtypes(include=[np.number]).columns if c != 'quality']\n",
        "\n",
        "\n",
        "def load_processed_df():\n",
        "    HF_TOKEN = os.getenv('HF_TOKEN', None)\n",
        "    HF_PROCESSED_REPO = os.getenv('HF_PROCESSED_REPO', 'henriquebap/wine-ml-processed')\n",
        "    try:\n",
        "        df_path = hf_hub_download(repo_id=HF_PROCESSED_REPO, filename='processed/full.csv', repo_type='dataset', token=HF_TOKEN)\n",
        "        df = pd.read_csv(df_path)\n",
        "        print('✅ Dados processados carregados do HF Hub')\n",
        "    except Exception as e:\n",
        "        print('⚠️ Fallback para dados locais:', e)\n",
        "        proc = Path.cwd().parent / 'data' / 'processed' / 'df_capped.csv'\n",
        "        if proc.exists():\n",
        "            df = pd.read_csv(proc)\n",
        "        else:\n",
        "            raise FileNotFoundError('df_capped.csv não encontrado localmente nem no Hub')\n",
        "    return df\n",
        "\n",
        "_df = load_processed_df()\n",
        "FEATURES = load_selected_features(_df)\n",
        "X = _df[FEATURES]\n",
        "y = _df[\"quality\"]\n",
        "\n",
        "X_train, X_test, y_train, y_test = train_test_split(X, y, test_size=0.2, random_state=42)\n",
        "\n",
        "model = RandomForestRegressor(n_estimators=400, random_state=42)\n",
        "model.fit(X_train, y_train)\n",
        "\n",
        "pred = model.predict(X_test)\n",
        "# Compute RMSE manually to avoid the 'squared' argument error\n",
        "mse = mean_squared_error(y_test, pred)\n",
        "rmse = np.sqrt(mse)\n",
        "mae = mean_absolute_error(y_test, pred)\n",
        "r2 = r2_score(y_test, pred)\n",
        "\n",
        "print({\"rmse\": rmse, \"mae\": mae, \"r2\": r2})\n",
        "\n",
        "# Residuals plot\n",
        "resid = y_test - pred\n",
        "sns.scatterplot(x=pred, y=resid)\n",
        "plt.axhline(0, color='red', linestyle='--')\n",
        "plt.title('Residuals vs Predictions')\n",
        "plt.show()\n",
        "\n",
        "# Feature importance\n",
        "importances = pd.Series(model.feature_importances_, index=FEATURES).sort_values(ascending=False)\n",
        "importances\n"
      ]
    },
    {
      "cell_type": "code",
      "execution_count": 3,
      "metadata": {},
      "outputs": [
        {
          "name": "stdout",
          "output_type": "stream",
          "text": [
            "✅ Modelo salvo em: /Users/henriquebap/Pessoal/Personal - Projects/Wine_MLProject/wine-ml-app/data/models/wine_quality_regressor.joblib\n"
          ]
        },
        {
          "data": {
            "text/plain": [
              "{'features': ['alcohol',\n",
              "  'volatile acidity',\n",
              "  'sulphates',\n",
              "  'citric acid',\n",
              "  'chlorides',\n",
              "  'density',\n",
              "  'fixed acidity',\n",
              "  'total sulfur dioxide',\n",
              "  'pH',\n",
              "  'free sulfur dioxide'],\n",
              " 'model_class': 'RandomForestRegressor',\n",
              " 'metrics': {'rmse': 0.7040603310476325,\n",
              "  'mae': 0.5420465686274509,\n",
              "  'r2': 0.4235590933858663}}"
            ]
          },
          "execution_count": 3,
          "metadata": {},
          "output_type": "execute_result"
        }
      ],
      "source": [
        "# Exporta modelo final e metadados\n",
        "from pathlib import Path\n",
        "import joblib\n",
        "\n",
        "models_dir = Path.cwd().parent / 'data' / 'models'\n",
        "models_dir.mkdir(parents=True, exist_ok=True)\n",
        "model_path = models_dir / 'wine_quality_regressor.joblib'\n",
        "meta = {\n",
        "    'features': FEATURES,\n",
        "    'model_class': type(model).__name__,\n",
        "    'metrics': {'rmse': float(rmse), 'mae': float(mae), 'r2': float(r2)}\n",
        "}\n",
        "\n",
        "joblib.dump({'model': model, 'metadata': meta}, model_path)\n",
        "print('✅ Modelo salvo em:', model_path)\n",
        "meta\n"
      ]
    }
  ],
  "metadata": {
    "kernelspec": {
      "display_name": ".venv",
      "language": "python",
      "name": "python3"
    },
    "language_info": {
      "codemirror_mode": {
        "name": "ipython",
        "version": 3
      },
      "file_extension": ".py",
      "mimetype": "text/x-python",
      "name": "python",
      "nbconvert_exporter": "python",
      "pygments_lexer": "ipython3",
      "version": "3.11.13"
    }
  },
  "nbformat": 4,
  "nbformat_minor": 2
}
