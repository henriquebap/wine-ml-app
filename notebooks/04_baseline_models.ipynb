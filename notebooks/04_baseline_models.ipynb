{
  "cells": [
    {
      "cell_type": "markdown",
      "metadata": {},
      "source": [
        "# 04 - Baseline Models\n",
        "\n",
        "Comparação rápida de modelos baseline (LinearRegression, RandomForest, XGB opcional) com validação cruzada.\n",
        "\n"
      ]
    },
    {
      "cell_type": "code",
      "execution_count": null,
      "metadata": {},
      "outputs": [],
      "source": [
        "import os\n",
        "import numpy as np\n",
        "import pandas as pd\n",
        "from sklearn.model_selection import cross_val_score, KFold\n",
        "from sklearn.metrics import mean_absolute_error, mean_squared_error\n",
        "from sklearn.linear_model import LinearRegression, Ridge\n",
        "from sklearn.ensemble import RandomForestRegressor\n",
        "\n",
        "from src.data_ingestion import load_wine_dataframe\n",
        "from src.data_processing import DataPreprocessor\n",
        "\n",
        "HF_REPO = os.getenv(\"HF_DATASET_REPO\", \"henriquebap/wine-ml-dataset\")\n",
        "FILENAME = os.getenv(\"HF_DATASET_FILENAME\", \"WineQT.csv\")\n",
        "\n",
        "FEATURES = [\n",
        "    \"fixed acidity\",\"volatile acidity\",\"citric acid\",\"residual sugar\",\"chlorides\",\n",
        "    \"free sulfur dioxide\",\"total sulfur dioxide\",\"density\",\"pH\",\"sulphates\",\"alcohol\"\n",
        "]\n",
        "\n",
        "df = load_wine_dataframe(repo_id=HF_REPO, filename=FILENAME)\n",
        "pre = DataPreprocessor(feature_columns=FEATURES, target_column=\"quality\")\n",
        "df_p = pre.fit_transform(df)\n",
        "X = df_p[FEATURES]\n",
        "y = df_p[\"quality\"]\n",
        "\n",
        "models = {\n",
        "    \"Linear\": LinearRegression(),\n",
        "    \"Ridge\": Ridge(alpha=1.0),\n",
        "    \"RF\": RandomForestRegressor(n_estimators=300, random_state=42),\n",
        "}\n",
        "\n",
        "cv = KFold(n_splits=5, shuffle=True, random_state=42)\n",
        "results = []\n",
        "for name, model in models.items():\n",
        "    scores = cross_val_score(model, X, y, cv=cv, scoring='neg_root_mean_squared_error')\n",
        "    results.append({\n",
        "        \"model\": name,\n",
        "        \"rmse_mean\": -scores.mean(),\n",
        "        \"rmse_std\": scores.std(),\n",
        "    })\n",
        "\n",
        "pd.DataFrame(results).sort_values(\"rmse_mean\")\n"
      ]
    }
  ],
  "metadata": {
    "language_info": {
      "name": "python"
    }
  },
  "nbformat": 4,
  "nbformat_minor": 2
}
