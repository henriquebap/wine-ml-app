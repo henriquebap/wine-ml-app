{
  "cells": [
    {
      "cell_type": "markdown",
      "metadata": {},
      "source": [
        "# 03 - Data Visualization & Insights (WineQT)\n",
        "\n",
        "Histogramas, boxplots, scatter plots e heatmaps + insights de qualidade.\n",
        "\n"
      ]
    },
    {
      "cell_type": "code",
      "execution_count": null,
      "metadata": {},
      "outputs": [],
      "source": [
        "import os\n",
        "import numpy as np\n",
        "import pandas as pd\n",
        "import seaborn as sns\n",
        "import matplotlib.pyplot as plt\n",
        "\n",
        "from src.data_ingestion import load_wine_dataframe\n",
        "\n",
        "HF_REPO = os.getenv(\"HF_DATASET_REPO\", \"henriquebap/wine-ml-dataset\")\n",
        "FILENAME = os.getenv(\"HF_DATASET_FILENAME\", \"WineQT.csv\")\n",
        "\n",
        "df = load_wine_dataframe(repo_id=HF_REPO, filename=FILENAME)\n",
        "df.head()\n"
      ]
    },
    {
      "cell_type": "code",
      "execution_count": null,
      "metadata": {},
      "outputs": [],
      "source": [
        "sns.set_theme()\n",
        "# Histograms\n",
        "fig, axes = plt.subplots(nrows=4, ncols=3, figsize=(14,12))\n",
        "axes = axes.flatten()\n",
        "for i, col in enumerate([c for c in df.columns if c != 'quality']):\n",
        "    sns.histplot(df[col], kde=True, ax=axes[i])\n",
        "    axes[i].set_title(col)\n",
        "plt.tight_layout()\n",
        "plt.show()\n"
      ]
    },
    {
      "cell_type": "code",
      "execution_count": null,
      "metadata": {},
      "outputs": [],
      "source": [
        "# Boxplots by quality\n",
        "fig, axes = plt.subplots(nrows=4, ncols=3, figsize=(14,12))\n",
        "axes = axes.flatten()\n",
        "for i, col in enumerate([c for c in df.columns if c != 'quality']):\n",
        "    sns.boxplot(data=df, x='quality', y=col, ax=axes[i])\n",
        "plt.tight_layout()\n",
        "plt.show()\n"
      ]
    },
    {
      "cell_type": "code",
      "execution_count": null,
      "metadata": {},
      "outputs": [],
      "source": [
        "# Scatter plots against target\n",
        "num_cols = [c for c in df.columns if c != 'quality']\n",
        "fig, axes = plt.subplots(nrows=4, ncols=3, figsize=(14,12))\n",
        "axes = axes.flatten()\n",
        "for i, col in enumerate(num_cols):\n",
        "    sns.scatterplot(data=df, x=col, y='quality', ax=axes[i], alpha=0.5)\n",
        "plt.tight_layout()\n",
        "plt.show()\n"
      ]
    },
    {
      "cell_type": "code",
      "execution_count": null,
      "metadata": {},
      "outputs": [],
      "source": [
        "# Correlation heatmap\n",
        "plt.figure(figsize=(10,8))\n",
        "sns.heatmap(df.corr(numeric_only=True), cmap='coolwarm', center=0)\n",
        "plt.show()\n"
      ]
    }
  ],
  "metadata": {
    "language_info": {
      "name": "python"
    }
  },
  "nbformat": 4,
  "nbformat_minor": 2
}
